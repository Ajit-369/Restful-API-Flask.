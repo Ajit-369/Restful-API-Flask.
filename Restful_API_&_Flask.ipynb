{
  "nbformat": 4,
  "nbformat_minor": 0,
  "metadata": {
    "colab": {
      "provenance": []
    },
    "kernelspec": {
      "name": "python3",
      "display_name": "Python 3"
    },
    "language_info": {
      "name": "python"
    }
  },
  "cells": [
    {
      "cell_type": "markdown",
      "source": [
        "# Restful API & Flask\n",
        "1. What is a RESTful API?\n",
        "- A RESTful API (Representational State Transfer API) is a way for different software systems to communicate over the internet using the HTTP protocol. It's widely used in web development to allow client applications (like web browsers or mobile apps) to interact with servers.\n",
        "\n",
        "2. Explain the concept of API specification?\n",
        "- An API specification is a detailed blueprint or contract that defines how an API behaves. It tells developers what endpoints are available, what requests can be made to those endpoints, what data should be sent or received, and what responses to expect.\n",
        "\n",
        "3. What is Flask, and why is it popular for building APIs?\n",
        "- Flask is a lightweight web framework written in Python. It is used to build web applications, including APIs. It is popular because it is simple to use, easy to learn, and does not require a lot of setup. With Flask, developers can quickly create and test small projects or APIs. It supports creating RESTful APIs using simple route definitions. Flask is also flexible, meaning you can choose which tools and libraries to add based on your project’s needs. Its large community and many available extensions make it a good choice for beginners and professionals.\n",
        "\n",
        "4. What is routing in Flask?\n",
        "- Routing in Flask means connecting a URL with a function. When someone visits a specific URL in a web browser, Flask checks the route and runs the function linked to it. That function returns something, like text or a webpage, which is then shown in the browser. For example, if someone visits /hello, and you have set up a route for that, Flask will call the function linked to /hello and show its result. Routing helps organize and handle different pages or actions in a web application.\n",
        "\n",
        "5. How do you create a simple Flask application?\n",
        "- To create a simple Flask application:\n",
        "\n",
        "First, install Flask by running pip install Flask in your terminal.\n",
        "\n",
        "Then, create a Python file (for example, app.py) and write the following code:\n",
        "\n",
        "python code:\n",
        "from flask import Flask\n",
        "\n",
        "app = Flask(__name__)\n",
        "\n",
        "@app.route('/')\n",
        "def home():\n",
        "    return \"Hello, Flask!\"\n",
        "\n",
        "if __name__ == '__main__':\n",
        "    app.run(debug=True)\n",
        "Now, run the file using the command python app.py.\n",
        "\n",
        "Open your web browser and go to http://127.0.0.1:5000/. You will see the message \"Hello, Flask!\"\n",
        "\n",
        "6. What are HTTP methods used in RESTful APIs?\n",
        "- ChatGPT said:\n",
        "HTTP methods used in RESTful APIs are actions that define what the API should do with the resource. The main methods are:\n",
        "\n",
        "GET: Used to read or retrieve data from the server.\n",
        "\n",
        "POST: Used to create a new resource on the server.\n",
        "\n",
        "PUT: Used to update an existing resource completely.\n",
        "\n",
        "PATCH: Used to update part of a resource.\n",
        "\n",
        "DELETE: Used to remove a resource from the server.\n",
        "\n",
        "Each method is used depending on the operation needed, and they help keep the API organized and clear.\n",
        "\n",
        "7. What is the purpose of the @app.route() decorator in Flask?\n",
        "\n",
        "The @app.route() decorator in Flask is used to bind a specific URL path to a function. This means when a user visits that URL in the browser, the associated function will run and return a response. It helps define routes or endpoints in the web application. For example, @app.route(\"/\") is used to define what happens when someone visits the home page of the website.\n",
        "\n",
        "8. What is the difference between GET and POST HTTP methods?\n",
        "- The GET method is used to request data from a server. It sends data through the URL and is mainly used for retrieving information. It is visible in the address bar and should not be used for sending sensitive data.\n",
        "\n",
        "The POST method is used to send data to the server, usually when creating or submitting something like a form. It sends data in the body of the request, so it is not visible in the URL and is safer for sending sensitive or large amounts of data.\n",
        "\n",
        "9. How do you handle errors in Flask APIs?\n",
        "- In Flask APIs, errors can be handled using error handlers and try-except blocks. You can use the @app.errorhandler() decorator to define custom responses for specific error codes like 404 (Not Found) or 500 (Internal Server Error). This helps in showing a clear message when something goes wrong. You can also use try and except blocks in your routes to catch specific errors during code execution and return proper messages with status codes using return statements. This makes your API more user-friendly and easier to debug.\n",
        "\n",
        "10. How do you connect Flask to a SQL database?\n",
        "- To connect Flask to a SQL database, you typically use an extension like Flask-SQLAlchemy. First, install it using pip install flask-sqlalchemy. Then, in your Flask app, you import and configure it with the database URI (like for SQLite or MySQL). For example:\n",
        "\n",
        "python code:\n",
        "from flask import Flask\n",
        "from flask_sqlalchemy import SQLAlchemy\n",
        "\n",
        "app = Flask(__name__)\n",
        "app.config['SQLALCHEMY_DATABASE_URI'] = 'sqlite:///mydatabase.db'\n",
        "db = SQLAlchemy(app)\n",
        "After setting it up, you can define models (tables) as Python classes and use db.session to add, update, or delete records in the database.\n",
        "\n",
        "11. What is the role of Flask-SQLAlchemy?\n",
        "- Flask-SQLAlchemy is an extension for Flask that makes it easier to work with SQL databases. It provides a simple way to define tables using Python classes, handle database connections, and perform operations like inserting, updating, and deleting records. It combines Flask with SQLAlchemy, a powerful database toolkit, allowing developers to use an object-oriented approach for database interactions instead of writing raw SQL queries. This helps in writing cleaner and more maintainable code.\n",
        "\n",
        "12. What are Flask blueprints, and how are they useful?\n",
        "- Flask blueprints are a way to organize a Flask application into smaller, reusable modules. Instead of writing all your routes and logic in a single file, you can group related parts of the application (like user routes, admin routes, etc.) into separate blueprints. This makes the code more organized, easier to maintain, and allows developers to work on different parts of the application independently. Blueprints also help in scaling the application by keeping the structure clean and modular.\n",
        "\n",
        "13. What is the purpose of Flask's request object?\n",
        "- Flask's request object is used to access data sent by the client to the server. It allows you to get information like form data, JSON data, URL parameters, headers, cookies, and the HTTP method (GET, POST, etc.). This object helps the server understand what the client is asking for and respond accordingly. For example, if a user submits a form, you can use request.form to get the submitted data.\n",
        "\n",
        "14. How do you create a RESTful API endpoint using Flask?\n",
        "- To create a RESTful API endpoint using Flask, you first need to set up a Flask app and define routes that respond to specific HTTP methods like GET or POST. Each route acts as an endpoint.\n",
        "\n",
        "15.  What is the purpose of Flask's jsonify() function?\n",
        "- The purpose of Flask's jsonify() function is to convert Python data (like dictionaries or lists) into JSON format and send it as a response to the client. It also automatically sets the correct content type (application/json) in the HTTP response header. This makes it easier to return structured data in a format that web or mobile apps can easily understand and use.\n",
        "\n",
        "16.  Explain Flask’s url_for() function\n",
        "- Flask’s url_for() function is used to build a URL for a specific function (route) in your app. Instead of writing the URL path manually, you pass the name of the function, and url_for() returns the correct URL. This is helpful because if you ever change the route later, you won’t need to update the URL everywhere—just the function name stays the same.\n",
        "\n",
        "17. How does Flask handle static files (CSS, JavaScript, etc.)\n",
        "- Flask handles static files like CSS, JavaScript, and images using a folder named static. By default, Flask looks for a folder called static in the root directory of your project. You place all your static files inside this folder.\n",
        "\n",
        "18.  What is an API specification, and how does it help in building a Flask API\n",
        "- An API specification is a detailed document or format that describes how an API should work. It defines the available endpoints (URLs), what data they accept (like JSON or form data), what HTTP methods they use (GET, POST, etc.), and what responses they return. It may also include error messages and authentication rules.\n",
        "\n",
        "In building a Flask API, an API specification acts like a plan or guide. It helps developers clearly understand what needs to be built, keeps the team on the same page, and makes it easier to test and document the API. Tools like Swagger or OpenAPI are often used to write these specifications.\n",
        "\n",
        "19.  What are HTTP status codes, and why are they important in a Flask API?\n",
        "- HTTP status codes are numbers returned by a web server to show the result of a request made by a client (like a browser or mobile app). These codes help the client know whether the request was successful, failed, or needs correction.\n",
        "\n",
        "In a Flask API, they are important because they give clear information about what happened with the request. For example:\n",
        "\n",
        "200 OK means the request was successful.\n",
        "\n",
        "201 Created means something was successfully created (like a new user).\n",
        "\n",
        "400 Bad Request means the client sent something wrong.\n",
        "\n",
        "404 Not Found means the requested resource doesn’t exist.\n",
        "\n",
        "500 Internal Server Error means something went wrong on the server.\n",
        "\n",
        "20.  How do you handle POST requests in Flask?\n",
        "- In Flask, you handle POST requests by defining a route that accepts the POST method using the methods argument in the @app.route() decorator. Inside the function, you can use the request object to get the data sent by the client.\n",
        "\n",
        "21. How would you secure a Flask API?\n",
        "- To secure a Flask API, you can follow several important steps:\n",
        "\n",
        "Use Authentication: Require users to log in or provide tokens (like API keys or JWT tokens) to access certain routes. This prevents unauthorized access.\n",
        "\n",
        "Authorization: Make sure only users with the right permissions can access specific resources (e.g., admin-only routes).\n",
        "\n",
        "Input Validation: Always validate and sanitize input data to prevent attacks like SQL injection or cross-site scripting (XSS).\n",
        "\n",
        "Use HTTPS: Ensure data is sent securely by enabling HTTPS on your server.\n",
        "\n",
        "Limit Request Rates: Use rate limiting to prevent abuse or denial-of-service attacks.\n",
        "\n",
        "Hide Sensitive Information: Don’t expose error details, passwords, or secret keys in responses.\n",
        "\n",
        "Use Flask Extensions: Tools like Flask-JWT-Extended, Flask-Limiter, and Flask-Login help manage security features easily.\n",
        "\n",
        "22. What is the significance of the Flask-RESTful extension?\n",
        "- The Flask-RESTful extension is used to simplify the process of building RESTful APIs with Flask. It provides tools that help organize code better and handle common tasks easily.\n",
        "\n",
        "The main benefits of Flask-RESTful are:\n",
        "\n",
        "Cleaner Code Structure: It lets you create resources using classes instead of functions, making code easier to manage.\n",
        "\n",
        "Automatic Handling of HTTP Methods: You can define methods like get(), post(), put(), and delete() inside a class to handle API requests.\n",
        "\n",
        "Better Error Handling: It provides helpful tools to return proper error messages and status codes.\n",
        "\n",
        "Support for Request Parsing: It includes tools to validate and parse incoming request data easily.\n",
        "\n",
        "23.  What is the role of Flask’s session object?\n",
        "- Flask’s session object is used to store information about a user across multiple requests, like when they log in and move from one page to another. It keeps user-specific data temporarily, such as usernames, login status, or preferences.\n",
        "\n",
        "This data is stored on the server side but sent to the user in the form of a secure cookie, which is encrypted using a secret key so that users can't modify it.\n",
        "\n",
        "For example, you can do:\n",
        "\n",
        "python code:\n",
        "from flask import session\n",
        "\n",
        "# Set a value in session\n",
        "session['username'] = 'john'\n",
        "\n",
        "# Get a value from session\n",
        "name = session.get('username')\n",
        "\n",
        "The session helps in creating personalized and secure user experiences in web applications."
      ],
      "metadata": {
        "id": "8kj13-Fpgss_"
      }
    },
    {
      "cell_type": "markdown",
      "source": [
        "#Practical"
      ],
      "metadata": {
        "id": "A7bKBcCvnuYF"
      }
    },
    {
      "cell_type": "code",
      "source": [
        "# How do you create a basic Flask application?\n",
        "'''Install Flask (if not already installed):\n",
        "\n",
        "bash\n",
        "Copy code\n",
        "pip install Flask\n",
        "Create a file named app.py (or any name you like)\n",
        "\n",
        "Write the following code in app.py:'''\n",
        "from flask import Flask\n",
        "\n",
        "# Create a Flask application\n",
        "app = Flask(__name__)\n",
        "\n",
        "# Define a route\n",
        "@app.route('/')\n",
        "def home():\n",
        "    return \"Hello, Flask! This is your first Flask app.\"\n",
        "\n",
        "# Run the application\n",
        "if __name__ == '__main__':\n",
        "    app.run(debug=True)"
      ],
      "metadata": {
        "colab": {
          "base_uri": "https://localhost:8080/"
        },
        "id": "0-Zcp3alnxE2",
        "outputId": "77d660e8-c2e5-4995-f1b6-819c7ee7bb94"
      },
      "execution_count": 2,
      "outputs": [
        {
          "output_type": "stream",
          "name": "stdout",
          "text": [
            " * Serving Flask app '__main__'\n",
            " * Debug mode: on\n"
          ]
        },
        {
          "output_type": "stream",
          "name": "stderr",
          "text": [
            "INFO:werkzeug:\u001b[31m\u001b[1mWARNING: This is a development server. Do not use it in a production deployment. Use a production WSGI server instead.\u001b[0m\n",
            " * Running on http://127.0.0.1:5000\n",
            "INFO:werkzeug:\u001b[33mPress CTRL+C to quit\u001b[0m\n",
            "INFO:werkzeug: * Restarting with stat\n"
          ]
        }
      ]
    },
    {
      "cell_type": "code",
      "source": [
        "# How do you serve static files like images or CSS in Flask\n",
        "'''To serve static files like images, CSS, or JavaScript in Flask, you need to use a folder named static. Flask automatically looks for static files in this folder.\n",
        "\n",
        "\n",
        "1. Create a project folder structure like this:\n",
        "cpp\n",
        "Copy code\n",
        "your_project/\n",
        "│\n",
        "├── app.py\n",
        "├── static/\n",
        "│   ├── style.css\n",
        "│   └── logo.png\n",
        "└── templates/\n",
        "    └── index.html\n",
        "2. Use the static files in your HTML (inside templates/index.html):\n",
        "<!DOCTYPE html>\n",
        "<html>\n",
        "<head>\n",
        "    <title>Static Example</title>\n",
        "    <link rel=\"stylesheet\" href=\"{{ url_for('static', filename='style.css') }}\">\n",
        "</head>\n",
        "<body>\n",
        "    <h1>Hello from Flask!</h1>\n",
        "    <img src=\"{{ url_for('static', filename='logo.png') }}\" alt=\"Logo\">\n",
        "</body>\n",
        "</html>\n",
        "\n",
        "3. Flask app.py code:\n",
        "\n",
        "from flask import Flask, render_template\n",
        "\n",
        "app = Flask(__name__)\n",
        "\n",
        "@app.route('/')\n",
        "def home():\n",
        "    return render_template('index.html')\n",
        "\n",
        "if __name__ == '__main__':\n",
        "    app.run(debug=True)\n",
        "\n"
      ],
      "metadata": {
        "id": "giAScc5Ij3Ut",
        "colab": {
          "base_uri": "https://localhost:8080/",
          "height": 141
        },
        "outputId": "472b5888-d14f-4e01-fe97-abffea03f6ee"
      },
      "execution_count": 4,
      "outputs": [
        {
          "output_type": "error",
          "ename": "SyntaxError",
          "evalue": "incomplete input (ipython-input-4-680485263.py, line 2)",
          "traceback": [
            "\u001b[0;36m  File \u001b[0;32m\"/tmp/ipython-input-4-680485263.py\"\u001b[0;36m, line \u001b[0;32m2\u001b[0m\n\u001b[0;31m    '''To serve static files like images, CSS, or JavaScript in Flask, you need to use a folder named static. Flask automatically looks for static files in this folder.\u001b[0m\n\u001b[0m    ^\u001b[0m\n\u001b[0;31mSyntaxError\u001b[0m\u001b[0;31m:\u001b[0m incomplete input\n"
          ]
        }
      ]
    },
    {
      "cell_type": "code",
      "source": [
        "#  How do you define different routes with different HTTP methods in Flask?\n",
        "'''In Flask, you can define different routes for different URLs and assign specific HTTP methods like GET, POST, PUT, or DELETE to each route using the @app.route() decorator.'''\n",
        "from flask import Flask, request\n",
        "\n",
        "app = Flask(__name__)\n",
        "\n",
        "@app.route('/', methods=['GET'])\n",
        "def home():\n",
        "    return \"This is a GET request\"\n",
        "\n",
        "@app.route('/submit', methods=['POST'])\n",
        "def submit():\n",
        "    return \"This is a POST request\"\n",
        "\n",
        "@app.route('/update', methods=['PUT'])\n",
        "def update():\n",
        "    return \"This is a PUT request\"\n",
        "\n",
        "@app.route('/delete', methods=['DELETE'])\n",
        "def delete():\n",
        "    return \"This is a DELETE request\"\n",
        "\n",
        "if __name__ == '__main__':\n",
        "    app.run(debug=True)\n",
        "\n",
        "'''\n",
        "/ responds only to GET requests.\n",
        "\n",
        "/submit handles POST requests.\n",
        "\n",
        "/update handles PUT requests.\n",
        "\n",
        "/delete handles DELETE requests.'''"
      ],
      "metadata": {
        "colab": {
          "base_uri": "https://localhost:8080/",
          "height": 176
        },
        "id": "uUCn-6l-oK9U",
        "outputId": "3766decb-7293-496d-f821-96253eebbbce"
      },
      "execution_count": 7,
      "outputs": [
        {
          "output_type": "stream",
          "name": "stdout",
          "text": [
            " * Serving Flask app '__main__'\n",
            " * Debug mode: on\n"
          ]
        },
        {
          "output_type": "stream",
          "name": "stderr",
          "text": [
            "INFO:werkzeug:\u001b[31m\u001b[1mWARNING: This is a development server. Do not use it in a production deployment. Use a production WSGI server instead.\u001b[0m\n",
            " * Running on http://127.0.0.1:5000\n",
            "INFO:werkzeug:\u001b[33mPress CTRL+C to quit\u001b[0m\n",
            "INFO:werkzeug: * Restarting with stat\n"
          ]
        },
        {
          "output_type": "execute_result",
          "data": {
            "text/plain": [
              "'\\n/ responds only to GET requests.\\n\\n/submit handles POST requests.\\n\\n/update handles PUT requests.\\n\\n/delete handles DELETE requests.'"
            ],
            "application/vnd.google.colaboratory.intrinsic+json": {
              "type": "string"
            }
          },
          "metadata": {},
          "execution_count": 7
        }
      ]
    },
    {
      "cell_type": "code",
      "source": [
        "#  How do you render HTML templates in Flask?\n",
        "'''To render HTML templates in Flask, you use the render_template() function and store your HTML files inside a folder named templates. Flask looks for HTML templates in this folder by default.\n",
        "1. Project Structure:\n",
        "pgsql\n",
        "Copy code\n",
        "your_project/\n",
        "│\n",
        "├── app.py\n",
        "└── templates/\n",
        "    └── index.html'''\n",
        "\n",
        "# 2. Create templates/index.html:\n",
        "<!DOCTYPE html>\n",
        "<html>\n",
        "<head>\n",
        "    <title>Flask Template</title>\n",
        "</head>\n",
        "<body>\n",
        "    <h1>Welcome to My Website</h1>\n",
        "    <p>This page is rendered using Flask and HTML template.</p>\n",
        "</body>\n",
        "</html>\n",
        "\n",
        "# 3. app.py Code:\n",
        "from flask import Flask, render_template\n",
        "\n",
        "app = Flask(__name__)\n",
        "\n",
        "@app.route('/')\n",
        "def home():\n",
        "    return render_template('index.html')\n",
        "\n",
        "if __name__ == '__main__':\n",
        "    app.run(debug=True)"
      ],
      "metadata": {
        "colab": {
          "base_uri": "https://localhost:8080/",
          "height": 106
        },
        "id": "kXmlJWmqpy3B",
        "outputId": "b2249f78-a13c-4ef6-df0c-1519e5ae24ca"
      },
      "execution_count": 8,
      "outputs": [
        {
          "output_type": "error",
          "ename": "SyntaxError",
          "evalue": "invalid syntax (ipython-input-8-79768137.py, line 13)",
          "traceback": [
            "\u001b[0;36m  File \u001b[0;32m\"/tmp/ipython-input-8-79768137.py\"\u001b[0;36m, line \u001b[0;32m13\u001b[0m\n\u001b[0;31m    <!DOCTYPE html>\u001b[0m\n\u001b[0m    ^\u001b[0m\n\u001b[0;31mSyntaxError\u001b[0m\u001b[0;31m:\u001b[0m invalid syntax\n"
          ]
        }
      ]
    },
    {
      "cell_type": "code",
      "source": [
        "#  How can you generate URLs for routes in Flask using url_for?\n",
        "'''In Flask, you can use the url_for() function to generate URLs dynamically for your routes based on the function names. This is useful because it avoids hardcoding URLs and helps keep your code flexible and clean\n",
        "Example Usage of url_for()\n",
        "Step 1: Basic Flask App'''\n",
        "from flask import Flask, url_for\n",
        "\n",
        "app = Flask(__name__)\n",
        "\n",
        "@app.route('/')\n",
        "def home():\n",
        "    return 'This is the Home Page'\n",
        "\n",
        "@app.route('/about')\n",
        "def about():\n",
        "    return 'This is the About Page'\n",
        "\n",
        "@app.route('/link')\n",
        "def link():\n",
        "    return f'<a href=\"{url_for(\"about\")}\">Go to About Page</a>'\n",
        "\n",
        "if __name__ == '__main__':\n",
        "    app.run(debug=True)"
      ],
      "metadata": {
        "colab": {
          "base_uri": "https://localhost:8080/"
        },
        "id": "56hm64Riq3C9",
        "outputId": "d7863712-bde5-441a-b8dd-203bdb316410"
      },
      "execution_count": 10,
      "outputs": [
        {
          "output_type": "stream",
          "name": "stdout",
          "text": [
            " * Serving Flask app '__main__'\n",
            " * Debug mode: on\n"
          ]
        },
        {
          "output_type": "stream",
          "name": "stderr",
          "text": [
            "INFO:werkzeug:\u001b[31m\u001b[1mWARNING: This is a development server. Do not use it in a production deployment. Use a production WSGI server instead.\u001b[0m\n",
            " * Running on http://127.0.0.1:5000\n",
            "INFO:werkzeug:\u001b[33mPress CTRL+C to quit\u001b[0m\n",
            "INFO:werkzeug: * Restarting with stat\n"
          ]
        }
      ]
    },
    {
      "cell_type": "code",
      "source": [
        "# How do you handle forms in Flask?\n",
        "'''To handle forms in Flask, you typically use HTML forms in your templates and handle the submitted data in your Flask route using the request object.\n",
        "\n",
        "1. Project Structure\n",
        "css\n",
        "your_project/\n",
        "├── app.py\n",
        "└── templates/\n",
        "    └── form.html\n",
        "2. Create form.html\n",
        "'''\n",
        "<!DOCTYPE html>\n",
        "<html>\n",
        "<head>\n",
        "    <title>Form Example</title>\n",
        "</head>\n",
        "<body>\n",
        "    <h2>Enter Your Name</h2>\n",
        "    <form method=\"POST\" action=\"/submit\">\n",
        "        <input type=\"text\" name=\"username\" placeholder=\"Your Name\">\n",
        "        <button type=\"submit\">Submit</button>\n",
        "    </form>\n",
        "</body>\n",
        "</html>\n",
        "# app.py Code\n",
        "from flask import Flask, render_template, request\n",
        "\n",
        "app = Flask(__name__)\n",
        "\n",
        "@app.route('/')\n",
        "def index():\n",
        "    return render_template('form.html')\n",
        "\n",
        "@app.route('/submit', methods=['POST'])\n",
        "def submit():\n",
        "    name = request.form['username']\n",
        "    return f\"Hello, {name}!\"\n",
        "\n",
        "if __name__ == '__main__':\n",
        "    app.run(debug=True)"
      ],
      "metadata": {
        "colab": {
          "base_uri": "https://localhost:8080/",
          "height": 106
        },
        "id": "Mn-b3M2grEyI",
        "outputId": "170a7c0b-3733-42f8-cb6a-360de7b7f570"
      },
      "execution_count": 11,
      "outputs": [
        {
          "output_type": "error",
          "ename": "SyntaxError",
          "evalue": "invalid syntax (ipython-input-11-2353379597.py, line 12)",
          "traceback": [
            "\u001b[0;36m  File \u001b[0;32m\"/tmp/ipython-input-11-2353379597.py\"\u001b[0;36m, line \u001b[0;32m12\u001b[0m\n\u001b[0;31m    <!DOCTYPE html>\u001b[0m\n\u001b[0m    ^\u001b[0m\n\u001b[0;31mSyntaxError\u001b[0m\u001b[0;31m:\u001b[0m invalid syntax\n"
          ]
        }
      ]
    },
    {
      "cell_type": "code",
      "source": [
        "#  How can you validate form data in Flask?\n",
        "'''In Flask, you can validate form data in two ways:\n",
        "\n",
        "1. Manual Validation (Basic Method)\n",
        "You directly check form values using request.form and write simple Python conditions.\n",
        "\n",
        "Example:\n",
        "'''\n",
        "from flask import Flask, request, render_template\n",
        "\n",
        "app = Flask(__name__)\n",
        "\n",
        "@app.route('/')\n",
        "def form():\n",
        "    return render_template('form.html')\n",
        "\n",
        "@app.route('/submit', methods=['POST'])\n",
        "def submit():\n",
        "    name = request.form['username']\n",
        "    if not name:\n",
        "        return \"Name is required!\"\n",
        "    return f\"Hello, {name}!\"\n",
        "\n",
        "if __name__ == '__main__':\n",
        "    app.run(debug=True)\n",
        "Here, we simply check if the user has entered a name or not.\n",
        "\n",
        "'''2. Using Flask-WTF (Advanced & Recommended for Larger Forms)\n",
        "Flask-WTF provides built-in form validation and CSRF protection.\n",
        "\n",
        "Steps:\n",
        "Install Flask-WTF:\n",
        "'''\n",
        "pip install flask-wtf\n",
        "\n",
        "#Example:\n",
        "\n",
        "from flask import Flask, render_template, redirect\n",
        "from flask_wtf import FlaskForm\n",
        "from wtforms import StringField, SubmitField\n",
        "from wtforms.validators import DataRequired\n",
        "\n",
        "app = Flask(__name__)\n",
        "app.secret_key = 'secretkey'\n",
        "\n",
        "class NameForm(FlaskForm):\n",
        "    name = StringField('Enter your name', validators=[DataRequired()])\n",
        "    submit = SubmitField('Submit')\n",
        "\n",
        "@app.route('/', methods=['GET', 'POST'])\n",
        "def index():\n",
        "    form = NameForm()\n",
        "    if form.validate_on_submit():\n",
        "        return f\"Hello, {form.name.data}!\"\n",
        "    return render_template('form.html', form=form)\n",
        "\n",
        "if __name__ == '__main__':\n",
        "    app.run(debug=True)\n",
        "\n",
        "# form.html Template:\n",
        "\n",
        "<form method=\"POST\">\n",
        "    {{ form.hidden_tag() }}\n",
        "    {{ form.name.label }} {{ form.name }}\n",
        "    {{ form.submit }}\n",
        "</form>\n"
      ],
      "metadata": {
        "colab": {
          "base_uri": "https://localhost:8080/",
          "height": 106
        },
        "id": "cgEVANHDr4Ew",
        "outputId": "3016212f-367b-4de7-fde5-31bf6e7d74fc"
      },
      "execution_count": 13,
      "outputs": [
        {
          "output_type": "error",
          "ename": "SyntaxError",
          "evalue": "expected 'else' after 'if' expression (ipython-input-13-3424331036.py, line 26)",
          "traceback": [
            "\u001b[0;36m  File \u001b[0;32m\"/tmp/ipython-input-13-3424331036.py\"\u001b[0;36m, line \u001b[0;32m26\u001b[0m\n\u001b[0;31m    Here, we simply check if the user has entered a name or not.\u001b[0m\n\u001b[0m                    ^\u001b[0m\n\u001b[0;31mSyntaxError\u001b[0m\u001b[0;31m:\u001b[0m expected 'else' after 'if' expression\n"
          ]
        }
      ]
    },
    {
      "cell_type": "code",
      "source": [
        "# How do you manage sessions in Flask?\n",
        "'''In Flask, sessions are used to store information about a user across multiple requests (like login status, user ID, etc.). Flask stores session data on the server-side (by default using secure cookies).\n",
        "\n",
        "Basic Usage of Sessions in Flask\n",
        " Step 1: Import and Set Secret Key\n",
        " '''\n",
        "from flask import Flask, session, redirect, url_for, request\n",
        "\n",
        "app = Flask(__name__)\n",
        "app.secret_key = 'your_secret_key'  # Required to use sessions\n",
        "'''Step 2: Set and Get Session Data\n",
        "'''\n",
        "@app.route('/')\n",
        "def index():\n",
        "    if 'username' in session:\n",
        "        return f'Logged in as {session[\"username\"]}'\n",
        "    return 'You are not logged in'\n",
        "\n",
        "@app.route('/login', methods=['POST', 'GET'])\n",
        "def login():\n",
        "    if request.method == 'POST':\n",
        "        session['username'] = request.form['username']\n",
        "        return redirect(url_for('index'))\n",
        "    return '''\n",
        "        <form method=\"post\">\n",
        "            <p><input type=text name=username>\n",
        "            <p><input type=submit value=Login>\n",
        "        </form>\n",
        "    '''\n",
        "\n",
        "@app.route('/logout')\n",
        "def logout():\n",
        "    session.pop('username', None)  # Remove data from session\n",
        "    return redirect(url_for('index'))"
      ],
      "metadata": {
        "id": "fsNnyuUYsCx0"
      },
      "execution_count": 14,
      "outputs": []
    },
    {
      "cell_type": "code",
      "source": [
        "# How do you redirect to a different route in Flask?\n",
        "'''In Flask, you can redirect to a different route using the redirect() and url_for() functions.\n",
        "\n",
        "Example: Redirecting from one route to another\n",
        "'''\n",
        "from flask import Flask, redirect, url_for\n",
        "\n",
        "app = Flask(__name__)\n",
        "\n",
        "@app.route('/')\n",
        "def home():\n",
        "    return \"This is the home page.\"\n",
        "\n",
        "@app.route('/login')\n",
        "def login():\n",
        "    return \"Please login here.\"\n",
        "\n",
        "@app.route('/go-to-login')\n",
        "def go_to_login():\n",
        "    return redirect(url_for('login'))  # Redirects to /login\n",
        "\n",
        "if __name__ == '__main__':\n",
        "    app.run(debug=True)"
      ],
      "metadata": {
        "colab": {
          "base_uri": "https://localhost:8080/"
        },
        "id": "b121zlD3s_nn",
        "outputId": "92718130-c183-4a44-df31-7eb7e3b116cf"
      },
      "execution_count": 15,
      "outputs": [
        {
          "output_type": "stream",
          "name": "stdout",
          "text": [
            " * Serving Flask app '__main__'\n",
            " * Debug mode: on\n"
          ]
        },
        {
          "output_type": "stream",
          "name": "stderr",
          "text": [
            "INFO:werkzeug:\u001b[31m\u001b[1mWARNING: This is a development server. Do not use it in a production deployment. Use a production WSGI server instead.\u001b[0m\n",
            " * Running on http://127.0.0.1:5000\n",
            "INFO:werkzeug:\u001b[33mPress CTRL+C to quit\u001b[0m\n",
            "INFO:werkzeug: * Restarting with stat\n"
          ]
        }
      ]
    },
    {
      "cell_type": "code",
      "source": [
        "#  How do you handle errors in Flask (e.g., 404)?\n",
        "'''In Flask, you can handle errors like 404 Not Found, 500 Internal Server Error, etc., using error handlers. This helps you show a custom message or HTML page when an error occurs.\n",
        "\n",
        "Example: Handling 404 Error\n",
        "'''\n",
        "from flask import Flask, render_template\n",
        "\n",
        "app = Flask(__name__)\n",
        "\n",
        "@app.route('/')\n",
        "def home():\n",
        "    return \"Welcome to the home page.\"\n",
        "\n",
        "# Error handler for 404\n",
        "@app.errorhandler(404)\n",
        "def page_not_found(e):\n",
        "    return \"Oops! Page not found (404)\", 404\n",
        "\n",
        "if __name__ == '__main__':\n",
        "    app.run(debug=True)"
      ],
      "metadata": {
        "id": "FDRW8r7YuQC4"
      },
      "execution_count": 16,
      "outputs": []
    },
    {
      "cell_type": "code",
      "source": [
        "# How do you structure a Flask app using Blueprints?\n",
        "'''To structure a Flask app using Blueprints, you divide your application into smaller, organized modules. Each Blueprint handles a set of related routes, views, and templates. This makes your code cleaner, reusable, and easier to manage, especially for larger apps.\n",
        "\n",
        "Step-by-Step: How to Use Blueprints in Flask\n",
        "Folder Structure:\n",
        "\n",
        "myapp/\n",
        "│\n",
        "├── app.py\n",
        "├── home/\n",
        "│   ├── __init__.py\n",
        "│   └── routes.py\n",
        "1. Create the Blueprint in home/routes.py\n",
        "'''\n",
        "from flask import Blueprint\n",
        "\n",
        "home_bp = Blueprint('home', __name__)\n",
        "\n",
        "@home_bp.route('/')\n",
        "def home():\n",
        "    return \"This is the Home Page\"\n",
        "\n",
        "'''\n",
        "Register the Blueprint in app.py\n",
        "'''\n",
        "from flask import Flask\n",
        "from home.routes import home_bp\n",
        "\n",
        "app = Flask(__name__)\n",
        "app.register_blueprint(home_bp)\n",
        "\n",
        "if __name__ == '__main__':\n",
        "    app.run(debug=True)\n",
        "\n",
        "'''\n",
        "3. (Optional) Use a URL prefix\n",
        "If you want all routes inside the blueprint to start with /home, do this:\n",
        "'''\n",
        "app.register_blueprint(home_bp, url_prefix='/home')\n",
        "\n",
        "# Then visiting /home/ will show the home page."
      ],
      "metadata": {
        "colab": {
          "base_uri": "https://localhost:8080/",
          "height": 384
        },
        "id": "kSl7X4j6udhW",
        "outputId": "262c279c-aaec-429b-85fb-380e53f7cb50"
      },
      "execution_count": 17,
      "outputs": [
        {
          "output_type": "error",
          "ename": "ModuleNotFoundError",
          "evalue": "No module named 'home'",
          "traceback": [
            "\u001b[0;31m---------------------------------------------------------------------------\u001b[0m",
            "\u001b[0;31mModuleNotFoundError\u001b[0m                       Traceback (most recent call last)",
            "\u001b[0;32m/tmp/ipython-input-17-2571516816.py\u001b[0m in \u001b[0;36m<cell line: 0>\u001b[0;34m()\u001b[0m\n\u001b[1;32m     25\u001b[0m '''\n\u001b[1;32m     26\u001b[0m \u001b[0;32mfrom\u001b[0m \u001b[0mflask\u001b[0m \u001b[0;32mimport\u001b[0m \u001b[0mFlask\u001b[0m\u001b[0;34m\u001b[0m\u001b[0;34m\u001b[0m\u001b[0m\n\u001b[0;32m---> 27\u001b[0;31m \u001b[0;32mfrom\u001b[0m \u001b[0mhome\u001b[0m\u001b[0;34m.\u001b[0m\u001b[0mroutes\u001b[0m \u001b[0;32mimport\u001b[0m \u001b[0mhome_bp\u001b[0m\u001b[0;34m\u001b[0m\u001b[0;34m\u001b[0m\u001b[0m\n\u001b[0m\u001b[1;32m     28\u001b[0m \u001b[0;34m\u001b[0m\u001b[0m\n\u001b[1;32m     29\u001b[0m \u001b[0mapp\u001b[0m \u001b[0;34m=\u001b[0m \u001b[0mFlask\u001b[0m\u001b[0;34m(\u001b[0m\u001b[0m__name__\u001b[0m\u001b[0;34m)\u001b[0m\u001b[0;34m\u001b[0m\u001b[0;34m\u001b[0m\u001b[0m\n",
            "\u001b[0;31mModuleNotFoundError\u001b[0m: No module named 'home'",
            "",
            "\u001b[0;31m---------------------------------------------------------------------------\u001b[0;32m\nNOTE: If your import is failing due to a missing package, you can\nmanually install dependencies using either !pip or !apt.\n\nTo view examples of installing some common dependencies, click the\n\"Open Examples\" button below.\n\u001b[0;31m---------------------------------------------------------------------------\u001b[0m\n"
          ],
          "errorDetails": {
            "actions": [
              {
                "action": "open_url",
                "actionText": "Open Examples",
                "url": "/notebooks/snippets/importing_libraries.ipynb"
              }
            ]
          }
        }
      ]
    },
    {
      "cell_type": "code",
      "source": [
        "# How do you define a custom Jinja filter in Flask?\n",
        "'''\n",
        "In Flask, you can define a custom Jinja filter to add your own functionality inside HTML templates. A Jinja filter is a function that modifies data before it's displayed in the template.\n",
        "\n",
        "Steps to define a custom Jinja filter:\n",
        "Create the function in your Python code.\n",
        "\n",
        "Register it with Flask using app.template_filter() or app.add_template_filter().\n",
        "\n",
        "Example:\n",
        "'''\n",
        "from flask import Flask, render_template\n",
        "\n",
        "app = Flask(__name__)\n",
        "\n",
        "# Step 1: Create the filter function\n",
        "def reverse_string(s):\n",
        "    return s[::-1]\n",
        "\n",
        "# Step 2: Register the filter\n",
        "app.add_template_filter(reverse_string, 'reverse')\n",
        "\n",
        "# Route using a template\n",
        "@app.route('/')\n",
        "def home():\n",
        "    return render_template('index.html', name=\"Flask\")\n",
        "\n",
        "if __name__ == '__main__':\n",
        "    app.run(debug=True)\n",
        "\n",
        "# Usage in index.html:\n",
        "\n",
        "# <!-- templates/index.html -->\n",
        "<!DOCTYPE html>\n",
        "<html>\n",
        "<body>\n",
        "  <h1>Original: {{ name }}</h1>\n",
        "  <h2>Reversed: {{ name | reverse }}</h2>\n",
        "</body>\n",
        "</html>\n",
        "\n"
      ],
      "metadata": {
        "colab": {
          "base_uri": "https://localhost:8080/",
          "height": 106
        },
        "id": "l3FFa5LtvfO1",
        "outputId": "76017bee-d5f9-43aa-aad5-d9738de47ad1"
      },
      "execution_count": 20,
      "outputs": [
        {
          "output_type": "error",
          "ename": "SyntaxError",
          "evalue": "invalid syntax (ipython-input-20-1237921009.py, line 35)",
          "traceback": [
            "\u001b[0;36m  File \u001b[0;32m\"/tmp/ipython-input-20-1237921009.py\"\u001b[0;36m, line \u001b[0;32m35\u001b[0m\n\u001b[0;31m    <html>\u001b[0m\n\u001b[0m    ^\u001b[0m\n\u001b[0;31mSyntaxError\u001b[0m\u001b[0;31m:\u001b[0m invalid syntax\n"
          ]
        }
      ]
    },
    {
      "cell_type": "code",
      "source": [
        "# How can you redirect with query parameters in Flask?\n",
        "'''\n",
        "In Flask, you can redirect with query parameters by using the redirect() and url_for() functions together, and passing the query parameters as keyword arguments.\n",
        "\n",
        "Example:\n",
        "'''\n",
        "from flask import Flask, redirect, url_for, request\n",
        "\n",
        "app = Flask(__name__)\n",
        "\n",
        "@app.route('/')\n",
        "def index():\n",
        "    return redirect(url_for('greet', name='Paresh', age=25))\n",
        "\n",
        "@app.route('/greet')\n",
        "def greet():\n",
        "    name = request.args.get('name')\n",
        "    age = request.args.get('age')\n",
        "    return f\"Hello, {name}! You are {age} years old.\"\n",
        "\n",
        "if __name__ == '__main__':\n",
        "    app.run(debug=True)\n"
      ],
      "metadata": {
        "colab": {
          "base_uri": "https://localhost:8080/"
        },
        "id": "6gh28FBqwSZs",
        "outputId": "0580cb4a-51b9-45ff-dfe9-f958ba2efb63"
      },
      "execution_count": 21,
      "outputs": [
        {
          "output_type": "stream",
          "name": "stdout",
          "text": [
            " * Serving Flask app '__main__'\n",
            " * Debug mode: on\n"
          ]
        },
        {
          "output_type": "stream",
          "name": "stderr",
          "text": [
            "INFO:werkzeug:\u001b[31m\u001b[1mWARNING: This is a development server. Do not use it in a production deployment. Use a production WSGI server instead.\u001b[0m\n",
            " * Running on http://127.0.0.1:5000\n",
            "INFO:werkzeug:\u001b[33mPress CTRL+C to quit\u001b[0m\n",
            "INFO:werkzeug: * Restarting with stat\n"
          ]
        }
      ]
    },
    {
      "cell_type": "code",
      "source": [
        "# How do you return JSON responses in Flask\n",
        "'''In Flask, you can return JSON responses using the jsonify() function. This function automatically converts Python dictionaries (or lists) into a proper JSON response with the correct content type.\n",
        "\n",
        "Example:\n",
        "'''\n",
        "from flask import Flask, jsonify\n",
        "\n",
        "app = Flask(__name__)\n",
        "\n",
        "@app.route('/data')\n",
        "def data():\n",
        "    info = {\n",
        "        'name': 'Paresh',\n",
        "        'age': 25,\n",
        "        'location': 'India'\n",
        "    }\n",
        "    return jsonify(info)\n",
        "\n",
        "if __name__ == '__main__':\n",
        "    app.run(debug=True)"
      ],
      "metadata": {
        "colab": {
          "base_uri": "https://localhost:8080/"
        },
        "id": "FsOdQnWp2dkZ",
        "outputId": "369751c3-045b-423e-e8b8-9892ff8494f2"
      },
      "execution_count": 22,
      "outputs": [
        {
          "output_type": "stream",
          "name": "stdout",
          "text": [
            " * Serving Flask app '__main__'\n",
            " * Debug mode: on\n"
          ]
        },
        {
          "output_type": "stream",
          "name": "stderr",
          "text": [
            "INFO:werkzeug:\u001b[31m\u001b[1mWARNING: This is a development server. Do not use it in a production deployment. Use a production WSGI server instead.\u001b[0m\n",
            " * Running on http://127.0.0.1:5000\n",
            "INFO:werkzeug:\u001b[33mPress CTRL+C to quit\u001b[0m\n",
            "INFO:werkzeug: * Restarting with stat\n"
          ]
        }
      ]
    },
    {
      "cell_type": "code",
      "source": [
        "# How do you capture URL parameters in Flask?\n",
        "'''\n",
        "In Flask, you can capture URL parameters by defining them inside angle brackets (< >) in your route. These parameters are passed to your view function as arguments.\n",
        "\n",
        "Example:\n",
        "'''\n",
        "from flask import Flask\n",
        "\n",
        "app = Flask(__name__)\n",
        "\n",
        "@app.route('/user/<username>')\n",
        "def show_user(username):\n",
        "    return f\"Hello, {username}!\"\n",
        "\n",
        "if __name__ == '__main__':\n",
        "    app.run(debug=True)"
      ],
      "metadata": {
        "colab": {
          "base_uri": "https://localhost:8080/"
        },
        "id": "VnaKYVKw3MCd",
        "outputId": "071841ae-ca71-48f8-bcf6-7f1d509dd553"
      },
      "execution_count": null,
      "outputs": [
        {
          "output_type": "stream",
          "name": "stdout",
          "text": [
            " * Serving Flask app '__main__'\n",
            " * Debug mode: on\n"
          ]
        },
        {
          "output_type": "stream",
          "name": "stderr",
          "text": [
            "INFO:werkzeug:\u001b[31m\u001b[1mWARNING: This is a development server. Do not use it in a production deployment. Use a production WSGI server instead.\u001b[0m\n",
            " * Running on http://127.0.0.1:5000\n",
            "INFO:werkzeug:\u001b[33mPress CTRL+C to quit\u001b[0m\n",
            "INFO:werkzeug: * Restarting with stat\n"
          ]
        }
      ]
    },
    {
      "cell_type": "code",
      "source": [],
      "metadata": {
        "id": "LvYdG3Hp4IvN"
      },
      "execution_count": null,
      "outputs": []
    }
  ]
}